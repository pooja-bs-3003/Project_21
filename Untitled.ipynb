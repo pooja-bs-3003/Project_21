{
 "cells": [
  {
   "cell_type": "code",
   "execution_count": 4,
   "id": "civic-rotation",
   "metadata": {},
   "outputs": [],
   "source": [
    "import pandas as pd\n",
    "\n",
    "a = pd.read_csv(\"train.csv\")\n",
    "b = pd.read_csv(\"test.csv\")\n",
    "b = b.dropna(axis=0)\n",
    "merged = a.merge(b, on='PassengerId')\n",
    "merged.to_csv(\"titanic.csv\", index=False)\n"
   ]
  },
  {
   "cell_type": "code",
   "execution_count": null,
   "id": "separated-forty",
   "metadata": {},
   "outputs": [],
   "source": []
  }
 ],
 "metadata": {
  "kernelspec": {
   "display_name": "Python 3",
   "language": "python",
   "name": "python3"
  },
  "language_info": {
   "codemirror_mode": {
    "name": "ipython",
    "version": 3
   },
   "file_extension": ".py",
   "mimetype": "text/x-python",
   "name": "python",
   "nbconvert_exporter": "python",
   "pygments_lexer": "ipython3",
   "version": "3.8.5"
  }
 },
 "nbformat": 4,
 "nbformat_minor": 5
}
